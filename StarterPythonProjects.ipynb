{
  "nbformat": 4,
  "nbformat_minor": 0,
  "metadata": {
    "colab": {
      "provenance": [],
      "authorship_tag": "ABX9TyMIjldK7ns3j2TFX9/9Tysy",
      "include_colab_link": true
    },
    "kernelspec": {
      "name": "python3",
      "display_name": "Python 3"
    },
    "language_info": {
      "name": "python"
    }
  },
  "cells": [
    {
      "cell_type": "markdown",
      "metadata": {
        "id": "view-in-github",
        "colab_type": "text"
      },
      "source": [
        "<a href=\"https://colab.research.google.com/github/obinnaugbor/python/blob/master/StarterPythonProjects.ipynb\" target=\"_parent\"><img src=\"https://colab.research.google.com/assets/colab-badge.svg\" alt=\"Open In Colab\"/></a>"
      ]
    },
    {
      "cell_type": "code",
      "source": [],
      "metadata": {
        "id": "II2GGWPgYmLB"
      },
      "execution_count": null,
      "outputs": []
    },
    {
      "cell_type": "code",
      "source": [
        "# function\n",
        "# create a functions named \"count_letters\" \n",
        "# that count number of letters in a string\n",
        "def count_letters(word):\n",
        "  counter = len(word)\n",
        "  return counter\n",
        "\n",
        "print(count_letters(\"Simi\"))"
      ],
      "metadata": {
        "colab": {
          "base_uri": "https://localhost:8080/"
        },
        "id": "DQ6UhH5P8ozL",
        "outputId": "fb87f834-4a65-4f2b-f18e-876a6cbbc4d7"
      },
      "execution_count": null,
      "outputs": [
        {
          "output_type": "stream",
          "name": "stdout",
          "text": [
            "4\n"
          ]
        }
      ]
    },
    {
      "cell_type": "code",
      "source": [
        "score = int(input(\"What did you score in the exam? \"))\n",
        "\n",
        "#print(score)\n",
        "\n",
        "if score >= 90:\n",
        "  print(\"Your grade is A\")\n",
        "elif score >= 80:\n",
        "  print(\"Your grade is B\")\n",
        "elif score >= 70:\n",
        "  print(\"Your grade is C\")\n",
        "elif score >= 60: \n",
        "  print(\"Your grade is D\")\n",
        "elif score >= 50: \n",
        "  print(\"Your grade is E\")\n",
        "elif score <= 40:\n",
        "  print(\"Your grade is F\")\n",
        "else: \n",
        "  print(\"Please enter a valid grade\")"
      ],
      "metadata": {
        "colab": {
          "base_uri": "https://localhost:8080/"
        },
        "id": "t8e30vWih9Qf",
        "outputId": "9a3810eb-2153-43ff-c25c-d9e1a5b9b971"
      },
      "execution_count": 10,
      "outputs": [
        {
          "output_type": "stream",
          "name": "stdout",
          "text": [
            "What did you score in the exam? -4444\n",
            "Your grade is F\n"
          ]
        }
      ]
    },
    {
      "cell_type": "code",
      "execution_count": 54,
      "metadata": {
        "colab": {
          "base_uri": "https://localhost:8080/"
        },
        "id": "JtAOpMhfZW5t",
        "outputId": "fba62000-7918-4b5d-a433-1c5c34e5ffed"
      },
      "outputs": [
        {
          "output_type": "stream",
          "name": "stdout",
          "text": [
            "Enter a time in seconds: 5\n",
            " 00:00Lift off!\n"
          ]
        }
      ],
      "source": [
        "'''\n",
        "Countdown Timer\n",
        "----------------------------------------------\n",
        "'''\n",
        "\n",
        "import time\n",
        "\n",
        "\n",
        "def countdown(user_time):\n",
        "   while user_time >= 0:\n",
        "       mins, secs = divmod(user_time, 60)\n",
        "       timer = '{:02d}:{:02d}'.format(mins, secs)\n",
        "       print('\\r', timer, end='')\n",
        "       time.sleep(1)\n",
        "       user_time -= 1\n",
        "   print('Lift off!')\n",
        "\n",
        "\n",
        "if __name__ == '__main__':\n",
        "   user_time = int(input(\"Enter a time in seconds: \"))\n",
        "   countdown(user_time)"
      ]
    },
    {
      "cell_type": "code",
      "source": [],
      "metadata": {
        "id": "mxlGDGTib8jT"
      },
      "execution_count": null,
      "outputs": []
    },
    {
      "cell_type": "code",
      "source": [],
      "metadata": {
        "colab": {
          "base_uri": "https://localhost:8080/"
        },
        "id": "OeUehhMtcFWy",
        "outputId": "d63e72d5-28d2-40bd-f7ef-fba3bd6b8b60"
      },
      "execution_count": 51,
      "outputs": [
        {
          "output_type": "execute_result",
          "data": {
            "text/plain": [
              "2"
            ]
          },
          "metadata": {},
          "execution_count": 51
        }
      ]
    }
  ]
}