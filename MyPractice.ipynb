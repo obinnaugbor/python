{
  "nbformat": 4,
  "nbformat_minor": 0,
  "metadata": {
    "colab": {
      "name": "MyPractice.ipynb",
      "provenance": [],
      "authorship_tag": "ABX9TyP/lYEkMmmKtgJU6I7LE0cI",
      "include_colab_link": true
    },
    "kernelspec": {
      "name": "python3",
      "display_name": "Python 3"
    },
    "language_info": {
      "name": "python"
    }
  },
  "cells": [
    {
      "cell_type": "markdown",
      "metadata": {
        "id": "view-in-github",
        "colab_type": "text"
      },
      "source": [
        "<a href=\"https://colab.research.google.com/github/obinnaugbor/python/blob/master/MyPractice.ipynb\" target=\"_parent\"><img src=\"https://colab.research.google.com/assets/colab-badge.svg\" alt=\"Open In Colab\"/></a>"
      ]
    },
    {
      "cell_type": "code",
      "execution_count": null,
      "metadata": {
        "colab": {
          "base_uri": "https://localhost:8080/",
          "height": 131
        },
        "id": "nLB_h72upvrH",
        "outputId": "27d6eeb2-b75a-471e-db05-c0888c29bafc"
      },
      "outputs": [
        {
          "output_type": "error",
          "ename": "SyntaxError",
          "evalue": "ignored",
          "traceback": [
            "\u001b[0;36m  File \u001b[0;32m\"<ipython-input-10-630bd083c420>\"\u001b[0;36m, line \u001b[0;32m10\u001b[0m\n\u001b[0;31m    slist[0] = str(int(slist[0])%12)hr = int(s[0:2])\u001b[0m\n\u001b[0m                                     ^\u001b[0m\n\u001b[0;31mSyntaxError\u001b[0m\u001b[0;31m:\u001b[0m invalid syntax\n"
          ]
        }
      ],
      "source": [
        "s = \"12:05:45AM\"\n",
        "\n",
        "\n",
        "slist = s.split(\":\")\n",
        "print(slist)\n",
        "\n",
        "\n",
        "\n",
        "if \"P\" in s:\n",
        "  slist[0] = str(int(slist[0])%12)\n",
        "  \n",
        "\n",
        "else:\n",
        "\tprint(s[0:-2])\n",
        "\n",
        "\n",
        "sjoin = \":\".join(slist)\n",
        "print(sjoin)\n"
      ]
    },
    {
      "cell_type": "code",
      "source": [
        "    arr = [0, 1, 4, 3, 6, 2, 5]\n",
        "    sarr=arr.sort()\n",
        "    arrl = len(arr)\n",
        "    mede = int((arrl+1)/2)\n",
        "    print (arr[mede-1])\n"
      ],
      "metadata": {
        "colab": {
          "base_uri": "https://localhost:8080/"
        },
        "id": "8F8LPEeUvV7E",
        "outputId": "3bf39448-8bb0-455d-b7ad-b0842dd2e419"
      },
      "execution_count": null,
      "outputs": [
        {
          "output_type": "stream",
          "name": "stdout",
          "text": [
            "3\n"
          ]
        }
      ]
    },
    {
      "cell_type": "code",
      "source": [
        "arr = [0, 1, 2, 3, 4, 5, 4, 3, 2, 1, 0]\n",
        "counter = []\n",
        "\n",
        "for x in range(min(arr), max(arr)+1):\n",
        "  if x in arr:\n",
        "    arr.remove(x)\n",
        "    if x not in arr:\n",
        "      print(x)  \n",
        "    else:\n",
        "      arr.remove(x)\n",
        "\n",
        "\n"
      ],
      "metadata": {
        "colab": {
          "base_uri": "https://localhost:8080/"
        },
        "id": "MKU5oHyb0_Tk",
        "outputId": "3746d79c-bf48-4d0c-a070-29365678f1be"
      },
      "execution_count": null,
      "outputs": [
        {
          "output_type": "stream",
          "name": "stdout",
          "text": [
            "5\n"
          ]
        }
      ]
    },
    {
      "cell_type": "code",
      "source": [
        "n=3\n",
        "sum_f = 0\n",
        "sum_b = 0\n",
        "for i in range(n):\n",
        "  sum_f = sum_f + arr[i,i]\n",
        "  sum_b = sum_b + sum_b[i,max-i-1]\n",
        "\n",
        "return abs(sum_f - sum_b)"
      ],
      "metadata": {
        "colab": {
          "base_uri": "https://localhost:8080/"
        },
        "id": "0A9ECsdh0IXM",
        "outputId": "a85c9bd7-3ff3-4977-bf83-0c7a9e1676a7"
      },
      "execution_count": null,
      "outputs": [
        {
          "output_type": "stream",
          "name": "stdout",
          "text": [
            "0 0\n",
            "0 2\n",
            "1 1\n",
            "1 1\n",
            "2 2\n",
            "2 0\n"
          ]
        }
      ]
    },
    {
      "cell_type": "code",
      "source": [
        "arr = [10, 9, 1, 2, 3, 4, 100, 5, 9, 8, 4, 3, 2, 1, 10, 0, 9, 0 , 0, 100]\n",
        "counter = [0 for i in range(0, 101)]\n",
        "\n",
        "for x in range(min(arr), max(arr)+1):\n",
        "  while x in arr:\n",
        "    counter[x] += 1\n",
        "    arr.remove(x)\n",
        "\n",
        "print(counter)\n",
        "\n",
        "\n"
      ],
      "metadata": {
        "colab": {
          "base_uri": "https://localhost:8080/"
        },
        "id": "mGe6dMSNmkf1",
        "outputId": "49530b74-f402-4378-c50b-80c98c1443ba"
      },
      "execution_count": null,
      "outputs": [
        {
          "output_type": "stream",
          "name": "stdout",
          "text": [
            "[3, 2, 2, 2, 2, 1, 0, 0, 1, 3, 2, 0, 0, 0, 0, 0, 0, 0, 0, 0, 0, 0, 0, 0, 0, 0, 0, 0, 0, 0, 0, 0, 0, 0, 0, 0, 0, 0, 0, 0, 0, 0, 0, 0, 0, 0, 0, 0, 0, 0, 0, 0, 0, 0, 0, 0, 0, 0, 0, 0, 0, 0, 0, 0, 0, 0, 0, 0, 0, 0, 0, 0, 0, 0, 0, 0, 0, 0, 0, 0, 0, 0, 0, 0, 0, 0, 0, 0, 0, 0, 0, 0, 0, 0, 0, 0, 0, 0, 0, 0, 2]\n"
          ]
        }
      ]
    },
    {
      "cell_type": "code",
      "source": [
        "a='photo.jpg, Warsaw, 2013-09-05 14:08:15'\n",
        "b= a.split(',')\n",
        "b\n",
        "c=b[0].split('.')\n",
        "c\n",
        "b[0]=c[1]\n",
        "b\n"
      ],
      "metadata": {
        "colab": {
          "base_uri": "https://localhost:8080/"
        },
        "id": "MeSULXJOggXI",
        "outputId": "9199008a-2b22-423e-b562-33fd58beaacb"
      },
      "execution_count": null,
      "outputs": [
        {
          "output_type": "execute_result",
          "data": {
            "text/plain": [
              "['jpg', ' Warsaw', ' 2013-09-05 14:08:15']"
            ]
          },
          "metadata": {},
          "execution_count": 18
        }
      ]
    },
    {
      "cell_type": "code",
      "source": [
        "for [0 for i in range(0, 100)]:\n",
        "  print(x)"
      ],
      "metadata": {
        "colab": {
          "base_uri": "https://localhost:8080/"
        },
        "id": "oP7BC_sM3TxB",
        "outputId": "52b62bf4-7aa9-4379-8269-085cd878dbb9"
      },
      "execution_count": null,
      "outputs": [
        {
          "output_type": "stream",
          "name": "stdout",
          "text": [
            "0\n",
            "1\n",
            "2\n",
            "3\n",
            "4\n",
            "5\n",
            "6\n",
            "7\n",
            "8\n",
            "9\n",
            "10\n",
            "11\n",
            "12\n",
            "13\n",
            "14\n",
            "15\n",
            "16\n",
            "17\n",
            "18\n",
            "19\n",
            "20\n",
            "21\n",
            "22\n",
            "23\n",
            "24\n",
            "25\n",
            "26\n",
            "27\n",
            "28\n",
            "29\n",
            "30\n",
            "31\n",
            "32\n",
            "33\n",
            "34\n",
            "35\n",
            "36\n",
            "37\n",
            "38\n",
            "39\n",
            "40\n",
            "41\n",
            "42\n",
            "43\n",
            "44\n",
            "45\n",
            "46\n",
            "47\n",
            "48\n",
            "49\n",
            "50\n",
            "51\n",
            "52\n",
            "53\n",
            "54\n",
            "55\n",
            "56\n",
            "57\n",
            "58\n",
            "59\n",
            "60\n",
            "61\n",
            "62\n",
            "63\n",
            "64\n",
            "65\n",
            "66\n",
            "67\n",
            "68\n",
            "69\n",
            "70\n",
            "71\n",
            "72\n",
            "73\n",
            "74\n",
            "75\n",
            "76\n",
            "77\n",
            "78\n",
            "79\n",
            "80\n",
            "81\n",
            "82\n",
            "83\n",
            "84\n",
            "85\n",
            "86\n",
            "87\n",
            "88\n",
            "89\n",
            "90\n",
            "91\n",
            "92\n",
            "93\n",
            "94\n",
            "95\n",
            "96\n",
            "97\n",
            "98\n",
            "99\n",
            "100\n"
          ]
        }
      ]
    }
  ]
}